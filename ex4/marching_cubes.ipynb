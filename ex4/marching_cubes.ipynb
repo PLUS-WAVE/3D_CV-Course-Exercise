{
 "cells": [
  {
   "cell_type": "markdown",
   "metadata": {},
   "source": [
    "# Marching Cubes Exercise\n",
    "\n",
    "This exercise is all about reconstructing meshes from voxelized data.\n",
    "In the case of this exercise voxelized data means that we have a 3D grid with assosiated scalar values of the Signed Distance Function.\n",
    "\n",
    "Let's start with the necessary imports:\n",
    "\n",
    "If you are on Google colab you might have to run:\n",
    "\n",
    "!pip install k3d\n",
    "\n",
    "!pip install trimesh"
   ]
  },
  {
   "cell_type": "code",
   "execution_count": 1,
   "metadata": {},
   "outputs": [],
   "source": [
    "from collections import defaultdict\n",
    "import numpy as np\n",
    "\n",
    "from matplotlib import pyplot as plt\n",
    "\n",
    "from scipy.spatial import KDTree\n",
    "from time import perf_counter\n",
    "import k3d\n",
    "from trimesh import Trimesh\n",
    "\n"
   ]
  },
  {
   "cell_type": "markdown",
   "metadata": {},
   "source": [
    "First of all, let us create a voxel (3D) grid of 3D coordinates.\n",
    "This means, that we can access the point coordinates of the point at x_idx=0, y_idx=0, z_idx=0 in this grid like so: ```voxel_coordinates[0,0,0,...]``` \n",
    "(You don't need to do anything here.)"
   ]
  },
  {
   "cell_type": "code",
   "execution_count": 2,
   "metadata": {},
   "outputs": [],
   "source": [
    "def create_voxel_coords_grid(size_x, grid_size, size_y, size_z):\n",
    "    x_ = np.linspace(-0.5 * size_x, 0.5 * size_x, grid_size)\n",
    "    y_ = np.linspace(-0.5 * size_y, 0.5 * size_y, grid_size)\n",
    "    z_ = np.linspace(-0.5 * size_z, 0.5 * size_z, grid_size)\n",
    "\n",
    "    x, y, z = np.meshgrid(x_, y_, z_, indexing=\"ij\")\n",
    "    assert np.all(x[:, 0, 0] == x_)\n",
    "    assert np.all(y[0, :, 0] == y_)\n",
    "    assert np.all(z[0, 0, :] == z_)\n",
    "\n",
    "    voxel_coordinates = np.stack([x, y, z], axis=-1)\n",
    "    return voxel_coordinates"
   ]
  },
  {
   "cell_type": "code",
   "execution_count": 3,
   "metadata": {},
   "outputs": [],
   "source": [
    "radius = 0.4\n",
    "\n",
    "size_x = 1.0 # size of our voxel grid\n",
    "size_y = 1.0\n",
    "size_z = 1.0\n",
    "\n",
    "test_grid_size = 8\n",
    "\n",
    "voxel_coordinates = create_voxel_coords_grid(size_x, test_grid_size, size_y, size_z)\n"
   ]
  },
  {
   "cell_type": "markdown",
   "metadata": {},
   "source": [
    "Now we want to create an artificial grid of SDF values: Let's assume a linear relationship between the distance of a point to the center of the sphere.\n",
    "A point in the grid that has the distance \"radius\" from the sphere center should have sfd value 0.0.\n",
    "The SDF value in the center of the should be one, outside of the sphere all sdf values should be negative."
   ]
  },
  {
   "cell_type": "code",
   "execution_count": 4,
   "metadata": {},
   "outputs": [],
   "source": [
    "def create_artificial_sphere_sdf(voxel_coordinates, radius):\n",
    "    voxel_dist_to_center = np.linalg.norm(voxel_coordinates, axis=-1, keepdims=True)\n",
    "\n",
    "    # lets have a sdf, where at center of sphere sdf = 1, at border = 0, linear\n",
    "    \n",
    "    sdf_vals = radius - voxel_dist_to_center\n",
    "\n",
    "    assert sdf_vals.shape[:-1] == voxel_coordinates.shape[:-1]\n",
    "    assert sdf_vals.shape[-1] == 1\n",
    "    return sdf_vals"
   ]
  },
  {
   "cell_type": "markdown",
   "metadata": {},
   "source": [
    "Let's cut our grid at x=0.0 and check if the graph makes sense:"
   ]
  },
  {
   "cell_type": "code",
   "execution_count": 5,
   "metadata": {},
   "outputs": [
    {
     "data": {
      "image/png": "[encoded data removed]",
      "text/plain": [
       "<Figure size 480x480 with 2 Axes>"
      ]
     },
     "metadata": {},
     "output_type": "display_data"
    }
   ],
   "source": [
    "sdf_vals = create_artificial_sphere_sdf(voxel_coordinates, radius)\n",
    "\n",
    "cut_img = sdf_vals[int(test_grid_size / 2), ..., 0]\n",
    "plt.matshow(cut_img)\n",
    "plt.colorbar()\n",
    "plt.title(\"SDF values in yz plane\")\n",
    "plt.show()"
   ]
  },
  {
   "cell_type": "markdown",
   "metadata": {},
   "source": [
    "To apply the marching cubes algorithm we first need to establish some conventions. \n",
    "We start by looking at the vertices (red numbers) and eges (blue) for an example cube.\n",
    "\n",
    "![title](./assets/marching_cubes_cube.png)\n",
    "\n",
    "For the algorithm to work, we need some lookup tables:\n",
    "The first one, called ```LUT_EDGE_IDX_TO_START_END_POINTS_IDXS``` is provided.\n",
    "Can you guess what it does?\n",
    "...\n",
    "If you look at it's entry for index 0, it will give you the tuple (0, 1). This means that the cube edge 0 (blue) starts at the corner 0 (red) and ends at the corner index 1 (red).\n"
   ]
  },
  {
   "cell_type": "code",
   "execution_count": 6,
   "metadata": {},
   "outputs": [],
   "source": [
    "\n",
    "LUT_EDGE_IDX_TO_START_END_POINTS_IDXS = [\n",
    "    (0, 1),\n",
    "    (1, 2),\n",
    "    (2, 3),\n",
    "    (3, 0),\n",
    "    (4, 5),\n",
    "    (5, 6),\n",
    "    (6, 7),\n",
    "    (7, 4),\n",
    "    (0, 4),\n",
    "    (1, 5),\n",
    "    (2, 6),\n",
    "    (3, 7),\n",
    "]\n"
   ]
  },
  {
   "cell_type": "markdown",
   "metadata": {},
   "source": [
    "In the lecture you have learned that there are 256 possible scenarios that can occur when fitting triangles to the SDF values.\n",
    "We thus need a table with 256 entries, that will match one of these cases to some triangles.\n",
    "A triangle is defined as a tuple of cube corner indices (red).\n",
    "For example ```LUT_CUBE_IDX_TO_TRIANGLES_EDGE_IDXS[1]=[(0, 8, 3)]```: This means that for case 1, we need one triangle that has its vertices the edges 0,8,3 (blue!). \n",
    "\n",
    "Thankfully this table is in the public domain and we can just grab it."
   ]
  },
  {
   "cell_type": "code",
   "execution_count": 7,
   "metadata": {},
   "outputs": [],
   "source": [
    "# adapted from: http://paulbourke.net/geometry/polygonise/marchingsource.cpp\n",
    "# (PUBLIC DOMAIN)\n",
    "# Changes: Stripped \"-1\" dummy values from struct, don't need them here\n",
    "LUT_CUBE_IDX_TO_TRIANGLES_EDGE_IDXS = [\n",
    "    [],\n",
    "    [(0, 8, 3)],\n",
    "    [(0, 1, 9)],\n",
    "    [(1, 8, 3), (9, 8, 1)],\n",
    "    [(1, 2, 10)],\n",
    "    [(0, 8, 3), (1, 2, 10)],\n",
    "    [(10, 9, 0), (0, 2, 10)],\n",
    "    [(2, 8, 3), (2, 10, 8), (10, 9, 8)],\n",
    "    [(3, 11, 2)],\n",
    "    [(2, 0, 8), (8, 11, 2)],\n",
    "    [(1, 9, 0), (2, 3, 11)],\n",
    "    [(1, 11, 2), (1, 9, 11), (9, 8, 11)],\n",
    "    [(3, 11, 1), (1, 11, 10)],\n",
    "    [(0, 10, 1), (0, 8, 10), (11, 10, 8)],\n",
    "    [(3, 9, 0), (3, 11, 9), (11, 10, 9)],\n",
    "    [(9, 8, 11), (10, 9, 11)],\n",
    "    [(4, 7, 8)],\n",
    "    [(4, 3, 0), (7, 3, 4)],\n",
    "    [(0, 1, 9), (8, 4, 7)],\n",
    "    [(4, 1, 9), (4, 7, 1), (7, 3, 1)],\n",
    "    [(1, 2, 10), (8, 4, 7)],\n",
    "    [(3, 4, 7), (3, 0, 4), (1, 2, 10)],\n",
    "    [(9, 2, 10), (9, 0, 2), (8, 4, 7)],\n",
    "    [(2, 10, 9), (2, 9, 7), (2, 7, 3), (7, 9, 4)],\n",
    "    [(8, 4, 7), (3, 11, 2)],\n",
    "    [(11, 4, 7), (11, 2, 4), (2, 0, 4)],\n",
    "    [(9, 0, 1), (8, 4, 7), (2, 3, 11)],\n",
    "    [(4, 7, 11), (9, 4, 11), (9, 11, 2), (2, 1, 9)],\n",
    "    [(3, 11, 10), (10, 1, 3), (7, 8, 4)],\n",
    "    [(11, 10, 1), (4, 11, 1), (7, 11, 4), (4, 1, 0)],\n",
    "    [(4, 7, 8), (3, 11, 9), (9, 11, 10), (9, 0, 3)],\n",
    "    [(4, 7, 11), (4, 11, 9), (9, 11, 10)],\n",
    "    [(9, 5, 4)],\n",
    "    [(9, 5, 4), (0, 8, 3)],\n",
    "    [(0, 5, 4), (1, 5, 0)],\n",
    "    [(8, 5, 4), (8, 3, 5), (3, 1, 5)],\n",
    "    [(1, 2, 10), (9, 5, 4)],\n",
    "    [(3, 0, 8), (1, 2, 10), (4, 9, 5)],\n",
    "    [(5, 2, 10), (5, 4, 2), (4, 0, 2)],\n",
    "    [(2, 10, 5), (3, 2, 5), (3, 5, 4), (3, 4, 8)],\n",
    "    [(9, 5, 4), (2, 3, 11)],\n",
    "    [(0, 11, 2), (0, 8, 11), (4, 9, 5)],\n",
    "    [(0, 5, 4), (0, 1, 5), (2, 3, 11)],\n",
    "    [(2, 1, 5), (2, 5, 8), (2, 8, 11), (4, 8, 5)],\n",
    "    [(10, 3, 11), (10, 1, 3), (9, 5, 4)],\n",
    "    [(4, 9, 5), (0, 8, 1), (8, 10, 1), (8, 11, 10)],\n",
    "    [(5, 4, 0), (5, 0, 11), (5, 11, 10), (11, 0, 3)],\n",
    "    [(5, 4, 8), (5, 8, 10), (10, 8, 11)],\n",
    "    [(9, 7, 8), (5, 7, 9)],\n",
    "    [(9, 3, 0), (9, 5, 3), (5, 7, 3)],\n",
    "    [(0, 7, 8), (0, 1, 7), (1, 5, 7)],\n",
    "    [(1, 5, 3), (3, 5, 7)],\n",
    "    [(9, 7, 8), (9, 5, 7), (10, 1, 2)],\n",
    "    [(10, 1, 2), (9, 5, 0), (5, 3, 0), (5, 7, 3)],\n",
    "    [(8, 0, 2), (8, 2, 5), (8, 5, 7), (10, 5, 2)],\n",
    "    [(2, 10, 5), (2, 5, 3), (3, 5, 7)],\n",
    "    [(7, 9, 5), (7, 8, 9), (3, 11, 2)],\n",
    "    [(9, 5, 7), (9, 7, 2), (9, 2, 0), (2, 7, 11)],\n",
    "    [(2, 3, 11), (0, 1, 8), (1, 7, 8), (1, 5, 7)],\n",
    "    [(11, 2, 1), (11, 1, 7), (7, 1, 5)],\n",
    "    [(9, 5, 8), (8, 5, 7), (10, 1, 3), (10, 3, 11)],\n",
    "    [(5, 7, 0), (5, 0, 9), (7, 11, 0), (1, 0, 10), (11, 10, 0)],\n",
    "    [(11, 10, 0), (11, 0, 3), (10, 5, 0), (8, 0, 7), (5, 7, 0)],\n",
    "    [(5, 11, 10), (11, 5, 7)],\n",
    "    [(10, 6, 5)],\n",
    "    [(0, 8, 3), (6, 5, 10)],\n",
    "    [(9, 0, 1), (5, 10, 6)],\n",
    "    [(1, 8, 3), (1, 9, 8), (5, 10, 6)],\n",
    "    [(1, 6, 5), (2, 6, 1)],\n",
    "    [(1, 6, 5), (1, 2, 6), (3, 0, 8)],\n",
    "    [(9, 6, 5), (9, 0, 6), (0, 2, 6)],\n",
    "    [(5, 9, 8), (5, 8, 2), (5, 2, 6), (3, 2, 8)],\n",
    "    [(2, 3, 11), (10, 6, 5)],\n",
    "    [(11, 0, 8), (11, 2, 0), (10, 6, 5)],\n",
    "    [(0, 1, 9), (2, 3, 11), (5, 10, 6)],\n",
    "    [(5, 10, 6), (1, 9, 2), (9, 11, 2), (9, 8, 11)],\n",
    "    [(6, 3, 11), (6, 5, 3), (5, 1, 3)],\n",
    "    [(0, 8, 11), (0, 11, 5), (0, 5, 1), (5, 11, 6)],\n",
    "    [(3, 11, 6), (0, 3, 6), (0, 6, 5), (0, 5, 9)],\n",
    "    [(6, 5, 9), (6, 9, 11), (11, 9, 8)],\n",
    "    [(5, 10, 6), (4, 7, 8)],\n",
    "    [(4, 3, 0), (4, 7, 3), (6, 5, 10)],\n",
    "    [(1, 9, 0), (5, 10, 6), (8, 4, 7)],\n",
    "    [(10, 6, 5), (1, 9, 7), (1, 7, 3), (7, 9, 4)],\n",
    "    [(6, 1, 2), (6, 5, 1), (4, 7, 8)],\n",
    "    [(1, 2, 5), (5, 2, 6), (3, 0, 4), (3, 4, 7)],\n",
    "    [(8, 4, 7), (9, 0, 5), (0, 6, 5), (0, 2, 6)],\n",
    "    [(7, 3, 9), (7, 9, 4), (3, 2, 9), (5, 9, 6), (2, 6, 9)],\n",
    "    [(3, 11, 2), (7, 8, 4), (10, 6, 5)],\n",
    "    [(5, 10, 6), (4, 7, 2), (4, 2, 0), (2, 7, 11)],\n",
    "    [(0, 1, 9), (4, 7, 8), (2, 3, 11), (5, 10, 6)],\n",
    "    [(9, 2, 1), (9, 11, 2), (9, 4, 11), (7, 11, 4), (5, 10, 6)],\n",
    "    [(8, 4, 7), (3, 11, 5), (3, 5, 1), (5, 11, 6)],\n",
    "    [(5, 1, 11), (5, 11, 6), (1, 0, 11), (7, 11, 4), (0, 4, 11)],\n",
    "    [(0, 5, 9), (0, 6, 5), (0, 3, 6), (11, 6, 3), (8, 4, 7)],\n",
    "    [(6, 5, 9), (6, 9, 11), (4, 7, 9), (7, 11, 9)],\n",
    "    [(6, 4, 9), (9, 10, 6)],\n",
    "    [(4, 10, 6), (4, 9, 10), (0, 8, 3)],\n",
    "    [(10, 0, 1), (10, 6, 0), (6, 4, 0)],\n",
    "    [(8, 3, 1), (8, 1, 6), (8, 6, 4), (6, 1, 10)],\n",
    "    [(1, 4, 9), (1, 2, 4), (2, 6, 4)],\n",
    "    [(3, 0, 8), (1, 2, 9), (2, 4, 9), (2, 6, 4)],\n",
    "    [(0, 2, 4), (4, 2, 6)],\n",
    "    [(8, 3, 2), (8, 2, 4), (4, 2, 6)],\n",
    "    [(10, 4, 9), (10, 6, 4), (11, 2, 3)],\n",
    "    [(0, 8, 2), (2, 8, 11), (4, 9, 10), (4, 10, 6)],\n",
    "    [(3, 11, 2), (0, 1, 6), (0, 6, 4), (6, 1, 10)],\n",
    "    [(6, 4, 1), (6, 1, 10), (4, 8, 1), (2, 1, 11), (8, 11, 1)],\n",
    "    [(9, 6, 4), (9, 3, 6), (9, 1, 3), (11, 6, 3)],\n",
    "    [(8, 11, 1), (8, 1, 0), (11, 6, 1), (9, 1, 4), (6, 4, 1)],\n",
    "    [(3, 11, 6), (3, 6, 0), (0, 6, 4)],\n",
    "    [(6, 4, 8), (8, 11, 6)],\n",
    "    [(7, 10, 6), (7, 8, 10), (8, 9, 10)],\n",
    "    [(0, 7, 3), (0, 10, 7), (0, 9, 10), (6, 7, 10)],\n",
    "    [(10, 6, 7), (1, 10, 7), (1, 7, 8), (1, 8, 0)],\n",
    "    [(10, 6, 7), (10, 7, 1), (1, 7, 3)],\n",
    "    [(1, 2, 6), (1, 6, 8), (1, 8, 9), (8, 6, 7)],\n",
    "    [(2, 6, 9), (2, 9, 1), (6, 7, 9), (0, 9, 3), (7, 3, 9)],\n",
    "    [(7, 8, 0), (7, 0, 6), (6, 0, 2)],\n",
    "    [(7, 3, 2), (6, 7, 2)],\n",
    "    [(2, 3, 11), (10, 6, 8), (10, 8, 9), (8, 6, 7)],\n",
    "    [(2, 0, 7), (2, 7, 11), (0, 9, 7), (6, 7, 10), (9, 10, 7)],\n",
    "    [(1, 8, 0), (1, 7, 8), (1, 10, 7), (6, 7, 10), (2, 3, 11)],\n",
    "    [(11, 2, 1), (11, 1, 7), (10, 6, 1), (6, 7, 1)],\n",
    "    [(8, 9, 6), (8, 6, 7), (9, 1, 6), (11, 6, 3), (1, 3, 6)],\n",
    "    [(0, 9, 1), (11, 6, 7)],\n",
    "    [(7, 8, 0), (7, 0, 6), (3, 11, 0), (11, 6, 0)],\n",
    "    [(7, 11, 6)],\n",
    "    [(7, 6, 11)],\n",
    "    [(3, 0, 8), (11, 7, 6)],\n",
    "    [(0, 1, 9), (11, 7, 6)],\n",
    "    [(8, 1, 9), (8, 3, 1), (11, 7, 6)],\n",
    "    [(10, 1, 2), (6, 11, 7)],\n",
    "    [(1, 2, 10), (3, 0, 8), (6, 11, 7)],\n",
    "    [(2, 9, 0), (2, 10, 9), (6, 11, 7)],\n",
    "    [(6, 11, 7), (2, 10, 3), (10, 8, 3), (10, 9, 8)],\n",
    "    [(7, 2, 3), (6, 2, 7)],\n",
    "    [(7, 0, 8), (7, 6, 0), (6, 2, 0)],\n",
    "    [(2, 7, 6), (2, 3, 7), (0, 1, 9)],\n",
    "    [(1, 6, 2), (1, 8, 6), (1, 9, 8), (8, 7, 6)],\n",
    "    [(10, 7, 6), (10, 1, 7), (1, 3, 7)],\n",
    "    [(10, 7, 6), (1, 7, 10), (1, 8, 7), (1, 0, 8)],\n",
    "    [(0, 3, 7), (0, 7, 10), (0, 10, 9), (6, 10, 7)],\n",
    "    [(7, 6, 10), (7, 10, 8), (8, 10, 9)],\n",
    "    [(8, 4, 6), (6, 11, 8)],\n",
    "    [(3, 6, 11), (3, 0, 6), (0, 4, 6)],\n",
    "    [(8, 6, 11), (8, 4, 6), (9, 0, 1)],\n",
    "    [(9, 4, 6), (9, 6, 3), (9, 3, 1), (11, 3, 6)],\n",
    "    [(6, 8, 4), (6, 11, 8), (2, 10, 1)],\n",
    "    [(1, 2, 10), (3, 0, 11), (0, 6, 11), (0, 4, 6)],\n",
    "    [(4, 11, 8), (4, 6, 11), (0, 2, 9), (2, 10, 9)],\n",
    "    [(10, 9, 3), (10, 3, 2), (9, 4, 3), (11, 3, 6), (4, 6, 3)],\n",
    "    [(8, 2, 3), (8, 4, 2), (4, 6, 2)],\n",
    "    [(0, 4, 2), (4, 6, 2)],\n",
    "    [(1, 9, 0), (2, 3, 4), (2, 4, 6), (4, 3, 8)],\n",
    "    [(1, 9, 4), (1, 4, 2), (2, 4, 6)],\n",
    "    [(8, 1, 3), (8, 6, 1), (8, 4, 6), (6, 10, 1)],\n",
    "    [(10, 1, 0), (10, 0, 6), (6, 0, 4)],\n",
    "    [(4, 6, 3), (4, 3, 8), (6, 10, 3), (0, 3, 9), (10, 9, 3)],\n",
    "    [(10, 9, 4), (4, 6, 10)],\n",
    "    [(4, 9, 5), (7, 6, 11)],\n",
    "    [(0, 8, 3), (4, 9, 5), (11, 7, 6)],\n",
    "    [(5, 0, 1), (5, 4, 0), (7, 6, 11)],\n",
    "    [(11, 7, 6), (8, 3, 4), (3, 5, 4), (3, 1, 5)],\n",
    "    [(9, 5, 4), (10, 1, 2), (7, 6, 11)],\n",
    "    [(6, 11, 7), (1, 2, 10), (0, 8, 3), (4, 9, 5)],\n",
    "    [(7, 6, 11), (5, 4, 10), (4, 2, 10), (4, 0, 2)],\n",
    "    [(3, 4, 8), (3, 5, 4), (3, 2, 5), (10, 5, 2), (11, 7, 6)],\n",
    "    [(7, 2, 3), (7, 6, 2), (5, 4, 9)],\n",
    "    [(9, 5, 4), (0, 8, 6), (0, 6, 2), (6, 8, 7)],\n",
    "    [(3, 6, 2), (3, 7, 6), (1, 5, 0), (5, 4, 0)],\n",
    "    [(6, 2, 8), (6, 8, 7), (2, 1, 8), (4, 8, 5), (1, 5, 8)],\n",
    "    [(9, 5, 4), (10, 1, 6), (1, 7, 6), (1, 3, 7)],\n",
    "    [(1, 6, 10), (1, 7, 6), (1, 0, 7), (8, 7, 0), (9, 5, 4)],\n",
    "    [(4, 0, 10), (4, 10, 5), (0, 3, 10), (6, 10, 7), (3, 7, 10)],\n",
    "    [(7, 6, 10), (7, 10, 8), (5, 4, 10), (4, 8, 10)],\n",
    "    [(6, 9, 5), (6, 11, 9), (11, 8, 9)],\n",
    "    [(3, 6, 11), (0, 6, 3), (0, 5, 6), (0, 9, 5)],\n",
    "    [(0, 11, 8), (0, 5, 11), (0, 1, 5), (5, 6, 11)],\n",
    "    [(6, 11, 3), (6, 3, 5), (5, 3, 1)],\n",
    "    [(1, 2, 10), (9, 5, 11), (9, 11, 8), (11, 5, 6)],\n",
    "    [(0, 11, 3), (0, 6, 11), (0, 9, 6), (5, 6, 9), (1, 2, 10)],\n",
    "    [(11, 8, 5), (11, 5, 6), (8, 0, 5), (10, 5, 2), (0, 2, 5)],\n",
    "    [(6, 11, 3), (6, 3, 5), (2, 10, 3), (10, 5, 3)],\n",
    "    [(5, 8, 9), (5, 2, 8), (5, 6, 2), (3, 8, 2)],\n",
    "    [(9, 5, 6), (9, 6, 0), (0, 6, 2)],\n",
    "    [(1, 5, 8), (1, 8, 0), (5, 6, 8), (3, 8, 2), (6, 2, 8)],\n",
    "    [(1, 5, 6), (2, 1, 6)],\n",
    "    [(1, 3, 6), (1, 6, 10), (3, 8, 6), (5, 6, 9), (8, 9, 6)],\n",
    "    [(10, 1, 0), (10, 0, 6), (9, 5, 0), (5, 6, 0)],\n",
    "    [(0, 3, 8), (5, 6, 10)],\n",
    "    [(5, 6, 10)],\n",
    "    [(11, 5, 10), (7, 5, 11)],\n",
    "    [(11, 5, 10), (11, 7, 5), (8, 3, 0)],\n",
    "    [(5, 11, 7), (5, 10, 11), (1, 9, 0)],\n",
    "    [(10, 7, 5), (10, 11, 7), (9, 8, 1), (8, 3, 1)],\n",
    "    [(11, 1, 2), (11, 7, 1), (7, 5, 1)],\n",
    "    [(0, 8, 3), (1, 2, 7), (1, 7, 5), (7, 2, 11)],\n",
    "    [(9, 7, 5), (9, 2, 7), (9, 0, 2), (2, 11, 7)],\n",
    "    [(7, 5, 2), (7, 2, 11), (5, 9, 2), (3, 2, 8), (9, 8, 2)],\n",
    "    [(2, 5, 10), (2, 3, 5), (3, 7, 5)],\n",
    "    [(8, 2, 0), (8, 5, 2), (8, 7, 5), (10, 2, 5)],\n",
    "    [(9, 0, 1), (5, 10, 3), (5, 3, 7), (3, 10, 2)],\n",
    "    [(9, 8, 2), (9, 2, 1), (8, 7, 2), (10, 2, 5), (7, 5, 2)],\n",
    "    [(1, 3, 5), (3, 7, 5)],\n",
    "    [(0, 8, 7), (0, 7, 1), (1, 7, 5)],\n",
    "    [(9, 0, 3), (9, 3, 5), (5, 3, 7)],\n",
    "    [(9, 8, 7), (5, 9, 7)],\n",
    "    [(5, 8, 4), (5, 10, 8), (10, 11, 8)],\n",
    "    [(5, 0, 4), (5, 11, 0), (5, 10, 11), (11, 3, 0)],\n",
    "    [(0, 1, 9), (8, 4, 10), (8, 10, 11), (10, 4, 5)],\n",
    "    [(10, 11, 4), (10, 4, 5), (11, 3, 4), (9, 4, 1), (3, 1, 4)],\n",
    "    [(2, 5, 1), (2, 8, 5), (2, 11, 8), (4, 5, 8)],\n",
    "    [(0, 4, 11), (0, 11, 3), (4, 5, 11), (2, 11, 1), (5, 1, 11)],\n",
    "    [(0, 2, 5), (0, 5, 9), (2, 11, 5), (4, 5, 8), (11, 8, 5)],\n",
    "    [(9, 4, 5), (2, 11, 3)],\n",
    "    [(2, 5, 10), (3, 5, 2), (3, 4, 5), (3, 8, 4)],\n",
    "    [(5, 10, 2), (5, 2, 4), (4, 2, 0)],\n",
    "    [(3, 10, 2), (3, 5, 10), (3, 8, 5), (4, 5, 8), (0, 1, 9)],\n",
    "    [(5, 10, 2), (5, 2, 4), (1, 9, 2), (9, 4, 2)],\n",
    "    [(8, 4, 5), (8, 5, 3), (3, 5, 1)],\n",
    "    [(0, 4, 5), (1, 0, 5)],\n",
    "    [(8, 4, 5), (8, 5, 3), (9, 0, 5), (0, 3, 5)],\n",
    "    [(9, 4, 5)],\n",
    "    [(4, 11, 7), (4, 9, 11), (9, 10, 11)],\n",
    "    [(0, 8, 3), (4, 9, 7), (9, 11, 7), (9, 10, 11)],\n",
    "    [(1, 10, 11), (1, 11, 4), (1, 4, 0), (7, 4, 11)],\n",
    "    [(3, 1, 4), (3, 4, 8), (1, 10, 4), (7, 4, 11), (10, 11, 4)],\n",
    "    [(4, 11, 7), (9, 11, 4), (9, 2, 11), (9, 1, 2)],\n",
    "    [(9, 7, 4), (9, 11, 7), (9, 1, 11), (2, 11, 1), (0, 8, 3)],\n",
    "    [(11, 7, 4), (11, 4, 2), (2, 4, 0)],\n",
    "    [(11, 7, 4), (11, 4, 2), (8, 3, 4), (3, 2, 4)],\n",
    "    [(2, 9, 10), (2, 7, 9), (2, 3, 7), (7, 4, 9)],\n",
    "    [(9, 10, 7), (9, 7, 4), (10, 2, 7), (8, 7, 0), (2, 0, 7)],\n",
    "    [(3, 7, 10), (3, 10, 2), (7, 4, 10), (1, 10, 0), (4, 0, 10)],\n",
    "    [(1, 10, 2), (8, 7, 4)],\n",
    "    [(4, 9, 1), (4, 1, 7), (7, 1, 3)],\n",
    "    [(4, 9, 1), (4, 1, 7), (0, 8, 1), (8, 7, 1)],\n",
    "    [(4, 0, 3), (7, 4, 3)],\n",
    "    [(4, 8, 7)],\n",
    "    [(9, 11, 8), (11, 9, 10)],\n",
    "    [(3, 0, 9), (3, 9, 11), (11, 9, 10)],\n",
    "    [(0, 1, 10), (0, 10, 8), (8, 10, 11)],\n",
    "    [(3, 1, 11), (11, 1, 10)],\n",
    "    [(1, 2, 11), (1, 11, 9), (9, 11, 8)],\n",
    "    [(3, 0, 9), (3, 9, 11), (1, 2, 9), (2, 11, 9)],\n",
    "    [(0, 2, 11), (11, 8, 0)],\n",
    "    [(3, 2, 11)],\n",
    "    [(2, 3, 8), (2, 8, 10), (10, 8, 9)],\n",
    "    [(2, 0, 9), (9, 10, 2)],\n",
    "    [(2, 3, 8), (2, 8, 10), (0, 1, 8), (1, 10, 8)],\n",
    "    [(10, 2, 1)],\n",
    "    [(1, 3, 8), (9, 1, 8)],\n",
    "    [(0, 9, 1)],\n",
    "    [(3, 8, 0)],\n",
    "    [],\n",
    "]"
   ]
  },
  {
   "cell_type": "markdown",
   "metadata": {},
   "source": [
    "We are also going to need some code to interpolate the location of a triangle vertex on an edge:\n",
    "x1, x2 are the coordinates of the box corner locations in 3D.\n",
    "The solution for the interpolation is given in the lecture slides.\n",
    "\n"
   ]
  },
  {
   "cell_type": "code",
   "execution_count": 8,
   "metadata": {},
   "outputs": [],
   "source": [
    "def interpolate_crossing(loc_x1, sdf_val_at_x1, loc_x2, sdf_val_at_x2, thresh=0.0):\n",
    "    # avoid divison by zero\n",
    "    if sdf_val_at_x1 == sdf_val_at_x2:\n",
    "        crossing_location = (loc_x2 + loc_x1) / 2\n",
    "    else:\n",
    "        crossing_location = loc_x1 + (thresh - sdf_val_at_x1) * (loc_x2 - loc_x1) / (sdf_val_at_x2 - sdf_val_at_x1)\n",
    "    return crossing_location\n"
   ]
  },
  {
   "cell_type": "markdown",
   "metadata": {},
   "source": [
    "Next, we write a convenience method ```get_map_box_corner_idx_to_coords_tuple```, that will help us to get the voxel indices for each box corner. This means that ```map_box_corner_idx_to_coords_tuple``` maps a box corner idx (red) to a tuple of coordinates:\n",
    "\n",
    "For the first two box corner indexes the solution is already provided. Fill in the coordinate tuples for the remaining coordinate tuples.\n",
    "\n",
    "![title](./assets/marching_cubes_cube.png)\n",
    "\n",
    "\n",
    "If all of that was a bit much, I suggest you read the excellent blog post here: [Polygonising a scalar field](http://paulbourke.net/geometry/polygonise/)\n",
    "\n",
    "\n",
    "IMPORTANT: The only place you need to modify here is the ```map_box_corner_idx_to_coords_tuple``` dict."
   ]
  },
  {
   "cell_type": "code",
   "execution_count": 9,
   "metadata": {},
   "outputs": [],
   "source": [
    "def get_map_box_corner_idx_to_coords_tuple(x_idx, y_idx, z_idx): \n",
    "    map_box_corner_idx_to_coords_tuple = {\n",
    "        0: (x_idx, y_idx, z_idx),\n",
    "        1: (x_idx, y_idx + 1, z_idx),\n",
    "        2: (x_idx + 1, y_idx + 1, z_idx),\n",
    "        3: (x_idx + 1, y_idx, z_idx),\n",
    "        4: (x_idx, y_idx, z_idx + 1),\n",
    "        5: (x_idx, y_idx + 1, z_idx + 1),\n",
    "        6: (x_idx + 1, y_idx + 1, z_idx + 1),\n",
    "        7: (x_idx + 1, y_idx, z_idx + 1),\n",
    "    }\n",
    "\n",
    "    assert len(map_box_corner_idx_to_coords_tuple) == 8, \"you missed some cases or added too many\"\n",
    "    return map_box_corner_idx_to_coords_tuple"
   ]
  },
  {
   "cell_type": "markdown",
   "metadata": {},
   "source": [
    "Finally we can write out the marching cubes method. The marching_cubes method goes over all cells in the voxel grid, identifies the correct one out of the 256 cases. Then it looks at the corresponding edge tuples of all triangles in LUT_CUBE_IDX_TO_TRIANGLES_EDGE_IDXS.\n",
    "\n",
    "For each edge your interpolation code is applied. And the resulting triangle vertex will be stored. You don't need to modify anything here."
   ]
  },
  {
   "cell_type": "code",
   "execution_count": 10,
   "metadata": {},
   "outputs": [],
   "source": [
    "def marching_cubes(sdf_field, voxel_coords, thresh=0.0):\n",
    "    assert sdf_field.shape[:-1] == voxel_coords.shape[:-1]\n",
    "    triangle_vertices = []\n",
    "    for x_idx in range(sdf_field.shape[0] - 1):\n",
    "        for y_idx in range(sdf_field.shape[1] - 1):\n",
    "            for z_idx in range(sdf_field.shape[2] - 1):\n",
    "\n",
    "                map_box_corner_idx_to_coords_tuple = get_map_box_corner_idx_to_coords_tuple(x_idx, y_idx, z_idx)\n",
    "\n",
    "                # 256 possible cases -> we need to match the correct case\n",
    "                cube_lut_index = 0\n",
    "                if sdf_field[map_box_corner_idx_to_coords_tuple[0]] < thresh:\n",
    "                    cube_lut_index |= 1\n",
    "                if sdf_field[map_box_corner_idx_to_coords_tuple[1]] < thresh:\n",
    "                    cube_lut_index |= 2\n",
    "                if sdf_field[map_box_corner_idx_to_coords_tuple[2]] < thresh:\n",
    "                    cube_lut_index |= 4\n",
    "                if sdf_field[map_box_corner_idx_to_coords_tuple[3]] < thresh:\n",
    "                    cube_lut_index |= 8\n",
    "                if sdf_field[map_box_corner_idx_to_coords_tuple[4]] < thresh:\n",
    "                    cube_lut_index |= 16\n",
    "                if sdf_field[map_box_corner_idx_to_coords_tuple[5]] < thresh:\n",
    "                    cube_lut_index |= 32\n",
    "                if sdf_field[map_box_corner_idx_to_coords_tuple[6]] < thresh:\n",
    "                    cube_lut_index |= 64\n",
    "                if sdf_field[map_box_corner_idx_to_coords_tuple[7]] < thresh:\n",
    "                    cube_lut_index |= 128\n",
    "\n",
    "                for edge_tuple_1, edge_tuple_2, edge_tuple_3 in LUT_CUBE_IDX_TO_TRIANGLES_EDGE_IDXS[cube_lut_index]:\n",
    "                    vertices = []\n",
    "                    for edge in (edge_tuple_1, edge_tuple_2, edge_tuple_3):\n",
    "                        (\n",
    "                            edge_start_point,\n",
    "                            edge_end_point,\n",
    "                        ) = LUT_EDGE_IDX_TO_START_END_POINTS_IDXS[edge]\n",
    "\n",
    "                        start_point = voxel_coords[map_box_corner_idx_to_coords_tuple[edge_start_point]]\n",
    "                        end_point = voxel_coords[map_box_corner_idx_to_coords_tuple[edge_end_point]]\n",
    "                        \n",
    "                        vertex = interpolate_crossing(\n",
    "                            start_point,\n",
    "                            sdf_field[map_box_corner_idx_to_coords_tuple[edge_start_point]],\n",
    "                            end_point,\n",
    "                            sdf_field[map_box_corner_idx_to_coords_tuple[edge_end_point]],\n",
    "                            thresh,\n",
    "                        )\n",
    "                        vertices.append(vertex)\n",
    "                    triangle_vertices.append(vertices)\n",
    "    triangle_vertices = np.array(triangle_vertices)\n",
    "\n",
    "    return triangle_vertices.astype(np.float32)"
   ]
  },
  {
   "cell_type": "markdown",
   "metadata": {},
   "source": [
    "Let's add a quick visu function: (You don't need to modify this.)"
   ]
  },
  {
   "cell_type": "code",
   "execution_count": 11,
   "metadata": {},
   "outputs": [],
   "source": [
    "def plot_mesh(tri_vertices):    \n",
    "    \n",
    "    faces = []\n",
    "    for i, t in enumerate(tri_vertices):\n",
    "        faces.append([i * 3, i * 3 + 2, i * 3 + 1])\n",
    "\n",
    "    plot = k3d.plot()\n",
    "    \n",
    "    mesh = k3d.mesh(tri_vertices, faces)\n",
    "\n",
    "    plot += mesh\n",
    "\n",
    "    plot.display()"
   ]
  },
  {
   "cell_type": "code",
   "execution_count": 12,
   "metadata": {},
   "outputs": [],
   "source": [
    "def plot_mesh_colab(tri_vertices):\n",
    "\n",
    "    faces = []\n",
    "    triangle_vertices = tri_vertices.reshape((-1,3))\n",
    "    for i, t in enumerate(tri_vertices):\n",
    "        if i % 3 == 0:\n",
    "            faces.append([i, i+2, i+1])\n",
    "    faces = np.array(faces)\n",
    "\n",
    "    mymesh = Trimesh(triangle_vertices, faces)\n",
    "\n",
    "    mymesh.show(smooth=False)"
   ]
  },
  {
   "cell_type": "markdown",
   "metadata": {},
   "source": [
    "For technical reasons, we need to use different methods to plot the mesh when we are in colab / on our local machine. Use ```plot_mesh_colab``` when working on Google Colab and ```plot_mesh``` elsewhere."
   ]
  },
  {
   "cell_type": "code",
   "execution_count": 13,
   "metadata": {},
   "outputs": [],
   "source": [
    "triangle_vertices = marching_cubes(sdf_vals, voxel_coordinates, thresh=0.0)\n",
    "\n"
   ]
  },
  {
   "cell_type": "code",
   "execution_count": 14,
   "metadata": {},
   "outputs": [
    {
     "data": {
      "application/vnd.jupyter.widget-view+json": {
       "model_id": "1867313abaec49cea6576aa167202f25",
       "version_major": 2,
       "version_minor": 0
      },
      "text/plain": [
       "Output()"
      ]
     },
     "metadata": {},
     "output_type": "display_data"
    }
   ],
   "source": [
    "# please comment out the next line if you are running on google colab\n",
    "plot_mesh(triangle_vertices)"
   ]
  },
  {
   "cell_type": "markdown",
   "metadata": {},
   "source": [
    "Depending on which viewer you use, you should be seeing something like this:\n",
    "\n",
    "![title](./assets/reconstruction_view.png)"
   ]
  },
  {
   "cell_type": "markdown",
   "metadata": {},
   "source": [
    "In order to compare our reconstructed mesh, we want to compare it to some randomly sampled points on the same sphere as above: "
   ]
  },
  {
   "cell_type": "code",
   "execution_count": 15,
   "metadata": {},
   "outputs": [],
   "source": [
    "\n",
    "def random_points_on_sphere(radius, num_points, center=np.array([0.0, 0.0, 0.0])):\n",
    "\n",
    "    points = np.random.randn(num_points, 3)\n",
    "    points /= np.linalg.norm(points, axis=-1, keepdims=True)\n",
    "    points *= radius\n",
    "    points += center\n",
    "\n",
    "    assert points.shape == (num_points, 3)\n",
    "    return points\n"
   ]
  },
  {
   "cell_type": "markdown",
   "metadata": {},
   "source": [
    "Let's once again take a look. If you have done it correctly, there should be no bias towards the poles of the sphere."
   ]
  },
  {
   "cell_type": "code",
   "execution_count": 16,
   "metadata": {},
   "outputs": [],
   "source": [
    "def plot_points(points):\n",
    "    plot = k3d.plot()\n",
    "    plot += k3d.points(gt_points[::10, 0:3], point_size=0.01)\n",
    "    plot.display()\n",
    "\n",
    "def plot_points_colab(points):\n",
    "\n",
    "    fig = plt.figure()\n",
    "    ax = fig.add_subplot(projection='3d')\n",
    "\n",
    "    ax.scatter(points[::25,0], points[::25,1], points[::25,2])\n",
    "\n",
    "    ax.set_xlabel('X')\n",
    "    ax.set_ylabel('Y')\n",
    "    ax.set_zlabel('Z')\n",
    "    scaling = np.array([getattr(ax, 'get_{}lim'.format(dim))() for dim in 'xyz'])\n",
    "    ax.auto_scale_xyz(*[[np.min(scaling), np.max(scaling)]]*3) \n",
    "\n",
    "    plt.show()"
   ]
  },
  {
   "cell_type": "code",
   "execution_count": 17,
   "metadata": {},
   "outputs": [
    {
     "name": "stderr",
     "output_type": "stream",
     "text": [
      "D:\\dev\\miniconda3\\envs\\lecturecv\\lib\\site-packages\\traittypes\\traittypes.py:97: UserWarning: Given trait value dtype \"float64\" does not match required type \"float32\". A coerced copy has been created.\n",
      "  warnings.warn(\n"
     ]
    },
    {
     "data": {
      "application/vnd.jupyter.widget-view+json": {
       "model_id": "52af9fc32b33492a96d6752f15af5616",
       "version_major": 2,
       "version_minor": 0
      },
      "text/plain": [
       "Output()"
      ]
     },
     "metadata": {},
     "output_type": "display_data"
    }
   ],
   "source": [
    "gt_points = random_points_on_sphere(radius=radius, num_points=10000)\n",
    "\n",
    "# if you run locally use this (nicer, interactive plot)\n",
    "plot_points(gt_points)\n"
   ]
  },
  {
   "cell_type": "markdown",
   "metadata": {},
   "source": [
    "Now, we are going to implement one of the most important metrics when it comes to 3D reconstruction.\n",
    "It takes two point clouds $X$ and $Y$ (each one unordered set of points) and computes the mean minimum distance from one point cloud to the other one and in reverse:\n",
    " \n",
    "The Chamfer Distance is defined as follows:\n",
    "\n",
    "$ d = 0.5 \\cdot (\\frac{1}{\\left | X \\right |}\\sum_{x_i \\in X}{\\min_{y_j \\in Y}{||x_i-y_j||^2}} + \\frac{1}{\\left | Y \\right |} \\sum_{y_j \\in Y}{\\min_{x_i \\in X}{||x_i-y_j||^2}})$\n",
    "\n",
    "This allows us to judge how close one point cloud is on average to the other.\n",
    "\n",
    "Hint: Use the KDTree (already imported) to get the nearest neighbors of one point cloud to the other! \n",
    "[KDTree Documentation](https://docs.scipy.org/doc/scipy/reference/generated/scipy.spatial.KDTree.html#scipy.spatial.KDTree)"
   ]
  },
  {
   "cell_type": "code",
   "execution_count": 18,
   "metadata": {},
   "outputs": [],
   "source": [
    "def chamfer_distance(pcl_0, pcl_1):\n",
    "    assert pcl_1.shape[-1] == 3\n",
    "    assert pcl_0.shape[-1] == 3\n",
    "    tree_0 = KDTree(pcl_0)\n",
    "    tree_1 = KDTree(pcl_1)\n",
    "    dist0, _ = tree_0.query(pcl_1)\n",
    "    dist1, _ = tree_1.query(pcl_0)\n",
    "    chamfer_dist = float(0.5 * (np.mean(dist0) + np.mean(dist1)))\n",
    "\n",
    "    assert type(chamfer_dist) == float\n",
    "    return chamfer_dist"
   ]
  },
  {
   "cell_type": "markdown",
   "metadata": {},
   "source": [
    "We're almost there! Let's compare the runtimes and chamfer distances for different grid sizes. You do not need to modify anything here. Please be patient, this might take a couple of seconds."
   ]
  },
  {
   "cell_type": "code",
   "execution_count": 19,
   "metadata": {},
   "outputs": [
    {
     "name": "stdout",
     "output_type": "stream",
     "text": [
      "Processing grid size: 8...\n",
      "Processing grid size: 16...\n",
      "Processing grid size: 32...\n",
      "Processing grid size: 64...\n",
      "Processing grid size: 128...\n",
      "Done!\n"
     ]
    }
   ],
   "source": [
    "metrics = defaultdict(list)\n",
    "for grid_size in [8, 16, 32, 64, 128]:\n",
    "    print(\"Processing grid size: {0}...\".format(grid_size))\n",
    "    voxel_coordinates = create_voxel_coords_grid(size_x, grid_size, size_y, size_z)\n",
    "\n",
    "    sdf_vals = create_artificial_sphere_sdf(voxel_coordinates, radius)\n",
    "\n",
    "    time_start = perf_counter()\n",
    "    triangle_vertices = marching_cubes(sdf_vals, voxel_coordinates)\n",
    "    runtime = perf_counter() - time_start\n",
    "    triangle_vertex_centers = np.mean(triangle_vertices, axis=-2)\n",
    "\n",
    "    metrics[\"Grid Size\"].append(grid_size)\n",
    "    metrics[\"time\"].append(runtime)\n",
    "    metrics[\"Chamfer Distance\"].append(\n",
    "        chamfer_distance(gt_points, triangle_vertex_centers)\n",
    "    )\n",
    "print(\"Done!\")"
   ]
  },
  {
   "cell_type": "code",
   "execution_count": 20,
   "metadata": {},
   "outputs": [
    {
     "data": {
      "image/png": "[encoded data removed]",
      "text/plain": [
       "<Figure size 640x480 with 2 Axes>"
      ]
     },
     "metadata": {},
     "output_type": "display_data"
    },
    {
     "name": "stdout",
     "output_type": "stream",
     "text": [
      "Success!\n"
     ]
    }
   ],
   "source": [
    "fig, ax = plt.subplots()\n",
    "ax.plot(\n",
    "    metrics[\"Grid Size\"],\n",
    "    metrics[\"Chamfer Distance\"],\n",
    "    label=\"Chamfer Distance\",\n",
    "    color=\"red\",\n",
    ")\n",
    "ax.set_xlabel(\"Grid Size\")\n",
    "ax.set_ylabel(\"Chamfer Distance [m]\", color=\"red\")\n",
    "plt.legend()\n",
    "ax2 = ax.twinx()\n",
    "ax2.plot(\n",
    "    metrics[\"Grid Size\"],\n",
    "    metrics[\"time\"],\n",
    "    label=\"Execution time\",\n",
    "    color=\"blue\",\n",
    "    marker=\"o\",\n",
    ")\n",
    "ax2.set_ylabel(\"Execution time [s]\", color=\"blue\")\n",
    "plt.legend()\n",
    "plt.show()\n",
    "print(\"Success!\")"
   ]
  },
  {
   "cell_type": "code",
   "execution_count": null,
   "metadata": {},
   "outputs": [],
   "source": []
  }
 ],
 "metadata": {
  "interpreter": {
   "hash": "5a914f8cf5070c684d4aae9b139d144932712c601f758445486ed49f59cbc926"
  },
  "kernelspec": {
   "display_name": "Python 3 (ipykernel)",
   "language": "python",
   "name": "python3"
  },
  "language_info": {
   "codemirror_mode": {
    "name": "ipython",
    "version": 3
   },
   "file_extension": ".py",
   "mimetype": "text/x-python",
   "name": "python",
   "nbconvert_exporter": "python",
   "pygments_lexer": "ipython3",
   "version": "3.8.18"
  }
 },
 "nbformat": 4,
 "nbformat_minor": 4
}
